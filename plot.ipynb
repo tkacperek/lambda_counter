{
 "cells": [
  {
   "cell_type": "code",
   "execution_count": 1,
   "metadata": {
    "collapsed": true
   },
   "outputs": [],
   "source": [
    "import pandas as pd\n",
    "import matplotlib"
   ]
  },
  {
   "cell_type": "code",
   "execution_count": 2,
   "outputs": [],
   "source": [
    "figures_dir = '/Users/tkacperek/Documents/uw/mgr/figures'\n",
    "matplotlib.use('pgf')\n",
    "matplotlib.rcParams.update({\n",
    "    'pgf.texsystem': 'pdflatex',\n",
    "    'font.family': 'serif',\n",
    "    'text.usetex': True,\n",
    "    'pgf.rcfonts': False,\n",
    "})"
   ],
   "metadata": {
    "collapsed": false,
    "pycharm": {
     "name": "#%%\n"
    }
   }
  },
  {
   "cell_type": "code",
   "execution_count": 3,
   "outputs": [],
   "source": [
    "df = pd.read_csv('data/!/summary.csv')\n",
    "df['date'] = df['date'].str.slice(stop=-3)\n",
    "df['lambda_rate'] = df['lambda_count'] / df['file_count']\n",
    "df['lambda_line_rate'] = df['lambda_count'] / df['line_count'] * 100"
   ],
   "metadata": {
    "collapsed": false,
    "pycharm": {
     "name": "#%%\n"
    }
   }
  },
  {
   "cell_type": "code",
   "execution_count": 4,
   "outputs": [
    {
     "name": "stderr",
     "output_type": "stream",
     "text": [
      "/Users/tkacperek/virtualenvs/mgr/lib/python3.8/site-packages/pandas/plotting/_matplotlib/core.py:1235: UserWarning: FixedFormatter should only be used together with FixedLocator\n",
      "  ax.set_xticklabels(xticklabels)\n"
     ]
    }
   ],
   "source": [
    "# mean skip rate\n",
    "df2 = df.copy()\n",
    "df2['skip_rate'] = df2['skipped_file_count'] / df2['file_count']\n",
    "df2 = df2.groupby(['date', 'language']).mean().reset_index()\n",
    "df2 = df2.pivot(index='date', columns='language', values='skip_rate')\n",
    "fig = df2.plot(rot=45, legend=False, grid=True).legend(['C++', 'Java', 'JavaScript']).get_figure()\n",
    "fig.savefig(f'{figures_dir}/skip_rate.pgf')"
   ],
   "metadata": {
    "collapsed": false,
    "pycharm": {
     "name": "#%%\n"
    }
   }
  },
  {
   "cell_type": "code",
   "execution_count": 5,
   "outputs": [
    {
     "name": "stderr",
     "output_type": "stream",
     "text": [
      "/Users/tkacperek/virtualenvs/mgr/lib/python3.8/site-packages/pandas/plotting/_matplotlib/core.py:1235: UserWarning: FixedFormatter should only be used together with FixedLocator\n",
      "  ax.set_xticklabels(xticklabels)\n"
     ]
    }
   ],
   "source": [
    "# mean lambda line rate\n",
    "df2 = df.groupby(['date', 'language']).mean().reset_index()\n",
    "df2 = df2.pivot(index='date', columns='language', values='lambda_line_rate')\n",
    "fig = df2.plot(rot=45, legend=False, logy=True, grid=True).legend(['C++', 'Java', 'JavaScript']).get_figure()\n",
    "fig.savefig(f'{figures_dir}/lambda_rate.pgf')"
   ],
   "metadata": {
    "collapsed": false,
    "pycharm": {
     "name": "#%%\n"
    }
   }
  },
  {
   "cell_type": "code",
   "execution_count": 6,
   "outputs": [
    {
     "name": "stderr",
     "output_type": "stream",
     "text": [
      "/Users/tkacperek/virtualenvs/mgr/lib/python3.8/site-packages/pandas/plotting/_matplotlib/core.py:1235: UserWarning: FixedFormatter should only be used together with FixedLocator\n",
      "  ax.set_xticklabels(xticklabels)\n"
     ]
    }
   ],
   "source": [
    "# lambda line rates in cpp\n",
    "df2 = df[df['language'] == 'cpp']\n",
    "df2 = df2.pivot(index='date', columns='nameWithOwner', values='lambda_line_rate')\n",
    "df2.fillna(method='ffill', inplace=True)\n",
    "fig = df2.plot(rot=45, legend=False, grid=True).legend(loc='upper left', fontsize='x-small').get_figure()\n",
    "fig.savefig(f'{figures_dir}/lambda_rate_cpp.pgf')"
   ],
   "metadata": {
    "collapsed": false,
    "pycharm": {
     "name": "#%%\n"
    }
   }
  },
  {
   "cell_type": "code",
   "execution_count": 7,
   "outputs": [
    {
     "name": "stderr",
     "output_type": "stream",
     "text": [
      "/Users/tkacperek/virtualenvs/mgr/lib/python3.8/site-packages/pandas/plotting/_matplotlib/core.py:1235: UserWarning: FixedFormatter should only be used together with FixedLocator\n",
      "  ax.set_xticklabels(xticklabels)\n"
     ]
    }
   ],
   "source": [
    "# lambda line rates in java\n",
    "df2 = df[df['language'] == 'java']\n",
    "df2 = df2.pivot(index='date', columns='nameWithOwner', values='lambda_line_rate')\n",
    "df2.fillna(method='ffill', inplace=True)\n",
    "fig = df2.plot(rot=45, legend=False, grid=True).legend(loc='upper left', fontsize='x-small').get_figure()\n",
    "fig.savefig(f'{figures_dir}/lambda_rate_java.pgf')"
   ],
   "metadata": {
    "collapsed": false,
    "pycharm": {
     "name": "#%%\n"
    }
   }
  },
  {
   "cell_type": "code",
   "execution_count": 8,
   "outputs": [
    {
     "name": "stderr",
     "output_type": "stream",
     "text": [
      "/Users/tkacperek/virtualenvs/mgr/lib/python3.8/site-packages/pandas/plotting/_matplotlib/core.py:1235: UserWarning: FixedFormatter should only be used together with FixedLocator\n",
      "  ax.set_xticklabels(xticklabels)\n"
     ]
    }
   ],
   "source": [
    "# lambda line rates in js\n",
    "df2 = df[df['language'] == 'js']\n",
    "df2 = df2.pivot(index='date', columns='nameWithOwner', values='lambda_line_rate')\n",
    "df2.fillna(method='ffill', inplace=True)\n",
    "fig = df2.plot(rot=45, legend=False).legend(loc='upper left', fontsize='x-small').get_figure()\n",
    "fig.savefig(f'{figures_dir}/lambda_rate_js.pgf')"
   ],
   "metadata": {
    "collapsed": false,
    "pycharm": {
     "name": "#%%\n"
    }
   }
  }
 ],
 "metadata": {
  "kernelspec": {
   "display_name": "Python 3",
   "language": "python",
   "name": "python3"
  },
  "language_info": {
   "codemirror_mode": {
    "name": "ipython",
    "version": 2
   },
   "file_extension": ".py",
   "mimetype": "text/x-python",
   "name": "python",
   "nbconvert_exporter": "python",
   "pygments_lexer": "ipython2",
   "version": "2.7.6"
  }
 },
 "nbformat": 4,
 "nbformat_minor": 0
}